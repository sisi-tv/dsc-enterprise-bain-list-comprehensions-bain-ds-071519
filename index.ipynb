{
 "cells": [
  {
   "cell_type": "markdown",
   "metadata": {},
   "source": [
    "# Python List Comprehension\n",
    "\n",
    "## Objectives\n",
    "* Understand and explain list comprehensions as alternatives to for loops.\n",
    "* Describe correct syntax for list comprehensions with required components. \n",
    "* Implement list comprehensions with conditionals and nested loops.\n",
    "* Write basic nested list comprehensions. \n"
   ]
  },
  {
   "cell_type": "markdown",
   "metadata": {},
   "source": [
    "## Introduction\n",
    "\n",
    "Python's list comprehensions provide us with an easy way to write `for` loops more concisely. List comprehensions are very useful towards creating new lists from existing lists or other iterables (dictionaries etc). The name *\"list comprehensions\"* can be a bit misleading because apparently it suggests that the comprehensions only work with lists. In reality, we can loop over any iterable object in Python. The output, at the end of execution will always be a list. \n",
    "\n",
    "For example, you can use list comprehensions to create a list of squares from a list of numbers. Have a look at this example below that uses for loops as well as list comprehension to create a new list from an existing one."
   ]
  },
  {
   "cell_type": "code",
   "execution_count": 33,
   "metadata": {},
   "outputs": [
    {
     "name": "stdout",
     "output_type": "stream",
     "text": [
      "[1, 4, 9, 16, 25]\n"
     ]
    }
   ],
   "source": [
    "# Use For Loop\n",
    "\n",
    "x1 = [1,2,3,4,5]\n",
    "x2 = []\n",
    "\n",
    "for x in x1:\n",
    "    x2.append(x**2)\n",
    "\n",
    "print (x2)    "
   ]
  },
  {
   "cell_type": "markdown",
   "metadata": {},
   "source": [
    "The for loop above can be replaced by a single line list comprehension, which outputs a new list. The new list does not need initialization as empty list above."
   ]
  },
  {
   "cell_type": "code",
   "execution_count": 34,
   "metadata": {},
   "outputs": [
    {
     "name": "stdout",
     "output_type": "stream",
     "text": [
      "[1, 4, 9, 16, 25] <class 'list'>\n"
     ]
    }
   ],
   "source": [
    "x1 = [1,2,3,4,5]\n",
    "x2 = [x**2 for x in x1] # List comprehension \n",
    "print(x2, type(x2))"
   ]
  },
  {
   "cell_type": "markdown",
   "metadata": {},
   "source": [
    "## List Comprehension Syntax\n",
    "\n",
    "The for loop, as we have seen before in our lessons and labs, has the following structure:\n",
    "\n",
    "> **for ELEMENT in ITERABLE:**\n",
    "\n",
    "    > **EXPRESSION**\n",
    "\n",
    "As seen in above example, basic list comprehensions can be defined using following syntax:\n",
    "\n",
    "> **[EXPRESSION for ELEMENT in ITERABLE]**\n",
    "\n",
    "In above example, `x**2` is the expression, `x` is the current element of the iterable and `x1` is the iterable. \n",
    "\n",
    "Let's another simple example of writing a basic for loop to create list of first 10 multiples of 8. We shall perform following tasks to achieve this:\n",
    "\n",
    "* Create an empty list.\n",
    "* Iterate over a range of numbers and multiply them by 8. \n",
    "\n",
    "The new sequence of numbers that we get will consist of multiples of 8."
   ]
  },
  {
   "cell_type": "code",
   "execution_count": 4,
   "metadata": {},
   "outputs": [
    {
     "name": "stdout",
     "output_type": "stream",
     "text": [
      "[8, 16, 24, 32, 40, 48, 56, 64, 72, 80]\n"
     ]
    }
   ],
   "source": [
    "lst = []\n",
    "\n",
    "for n in range(1,11):\n",
    "    lst.append(n*8)\n",
    "     \n",
    "print(lst)"
   ]
  },
  {
   "cell_type": "markdown",
   "metadata": {},
   "source": [
    "For list comprehensions, current **ELEMENT** is `n`, the **ITERABLE** is a list outpurt by `range(1,11)`, and the **EXPRESSION** is `n x 8`. Let's try to reproduce above results using list comprehension:"
   ]
  },
  {
   "cell_type": "code",
   "execution_count": 35,
   "metadata": {},
   "outputs": [
    {
     "data": {
      "text/plain": [
       "[8, 16, 24, 32, 40, 48, 56, 64, 72, 80]"
      ]
     },
     "execution_count": 35,
     "metadata": {},
     "output_type": "execute_result"
    }
   ],
   "source": [
    "# [EXPRESSION for ELEMENT in ITERABLE]\n",
    "[n*8 for n in range(1,11)]"
   ]
  },
  {
   "cell_type": "markdown",
   "metadata": {},
   "source": [
    "You can easily replace the expression above with any other expression and the comprehension will work fine. Let's try to take square of all numbers in our list. "
   ]
  },
  {
   "cell_type": "code",
   "execution_count": 32,
   "metadata": {},
   "outputs": [
    {
     "data": {
      "text/plain": [
       "[1, 4, 9, 16, 25, 36, 49, 64, 81, 100]"
      ]
     },
     "execution_count": 32,
     "metadata": {},
     "output_type": "execute_result"
    }
   ],
   "source": [
    "# [EXPRESSION for ELEMENT in ITERABLE]\n",
    "[n**2 for n in range(1,11)]"
   ]
  },
  {
   "cell_type": "markdown",
   "metadata": {},
   "source": [
    "## List Comprehension with Conditions\n",
    "\n",
    "We can also use a conditional structure with list comprehensions to apply filtering to certain values from the final list. In this case, the list comprehension has following syntax:\n",
    "\n",
    "> **[EXPRESSION for ELEMENT in ITERABLE if CONDITION]**\n",
    "\n",
    "A basic example of this type of comprehension would be to get all the odd numbers in a given list. \n",
    "Let's see how a `for` loop would achieve this:"
   ]
  },
  {
   "cell_type": "code",
   "execution_count": 12,
   "metadata": {},
   "outputs": [
    {
     "name": "stdout",
     "output_type": "stream",
     "text": [
      "[1, 3, 5, 7, 9]\n"
     ]
    }
   ],
   "source": [
    "odds = []\n",
    " \n",
    "for n in range(1,11):\n",
    "    if n%2 != 0:\n",
    "        odds.append(n)\n",
    "         \n",
    "print(odds)"
   ]
  },
  {
   "cell_type": "markdown",
   "metadata": {},
   "source": [
    "Achieving similar output using list comprehension takes the following form:"
   ]
  },
  {
   "cell_type": "code",
   "execution_count": 13,
   "metadata": {},
   "outputs": [
    {
     "data": {
      "text/plain": [
       "[1, 3, 5, 7, 9]"
      ]
     },
     "execution_count": 13,
     "metadata": {},
     "output_type": "execute_result"
    }
   ],
   "source": [
    "# [EXPRESSION for ELEMENT in ITERABLE if CONDITION]\n",
    "[n for n in range(1,11) if n%2 != 0]"
   ]
  },
  {
   "cell_type": "markdown",
   "metadata": {},
   "source": [
    "So you see how list comprehension can be used to simply code while getting the same `for` loop functionality. A more complex example of using list comprehensions would be adding `if .. else ..` conditional expressions. For this, the order in which we structure the list comprehension will be slightly different from usual `if` conditions. When we have a single `if` condition, the condition goes to the end of the comprehension. In the case of an `if .. else ..` expression, the positions of the for loop and the conditional expression are interchanged. The general syntax for such statements is:\n",
    "\n",
    ">**[EXPRESSION_1 if CONDITION else EXPRESSION_2 for ELEMENT in ITERABLE]**\n",
    "\n",
    "Let's write a for loop which will take the squares of even numbers and cubes of odd numbers for the elements in a given list."
   ]
  },
  {
   "cell_type": "code",
   "execution_count": 15,
   "metadata": {},
   "outputs": [
    {
     "name": "stdout",
     "output_type": "stream",
     "text": [
      "[1, 4, 27, 16, 125, 36, 343, 64, 729, 100]\n"
     ]
    }
   ],
   "source": [
    "powers = []\n",
    " \n",
    "for n in range(1,11):\n",
    "    if n%2 == 0:\n",
    "        powers.append(n**2)\n",
    "    else:\n",
    "        powers.append(n**3)\n",
    "         \n",
    "print(powers)"
   ]
  },
  {
   "cell_type": "markdown",
   "metadata": {},
   "source": [
    "Great, now let's try to reproduce these results using conditionals with list comprehension"
   ]
  },
  {
   "cell_type": "code",
   "execution_count": 17,
   "metadata": {},
   "outputs": [
    {
     "data": {
      "text/plain": [
       "[1, 4, 27, 16, 125, 36, 343, 64, 729, 100]"
      ]
     },
     "execution_count": 17,
     "metadata": {},
     "output_type": "execute_result"
    }
   ],
   "source": [
    "# [EXPRESSION_1 if CONDITION else EXPRESSION_2 for ELEMENT in ITERABLE]\n",
    "[n**2 if n%2 == 0 else n**3 for n in range(1,11)]"
   ]
  },
  {
   "cell_type": "markdown",
   "metadata": {},
   "source": [
    "## List Comprehension with Nested loops"
   ]
  },
  {
   "cell_type": "markdown",
   "metadata": {},
   "source": [
    "List comprehension in python also allows embedding of nested loops and there is no limit on the number of nested for loops that you can define. We can also add an optional if condition after each for loop. \n",
    "\n",
    "A list comprehension with nested for loops will have the following syntax:\n",
    "\n",
    ">**[EXPRESSION for ELEMENT_a in ITERABLE_a (optional if CONDITION_a)**\n",
    "\n",
    ">**for ELEMENT_b in ITERABLE_b (optional if CONDITION_b)**\n",
    "\n",
    ">**for ELEMENT_c in ITERABLE_c (optional if CONDITION_c)**\n",
    "\n",
    ">**...]**\n",
    "\n",
    "Let's look at an example to clear this up. There are two nested loops, and multiplying them together gives us multiplication tables for 1 - 4 for first 10 steps as shown below."
   ]
  },
  {
   "cell_type": "code",
   "execution_count": 40,
   "metadata": {},
   "outputs": [
    {
     "name": "stdout",
     "output_type": "stream",
     "text": [
      "[1, 2, 3, 4, 5, 6, 7, 8, 9, 10, 2, 4, 6, 8, 10, 12, 14, 16, 18, 20, 3, 6, 9, 12, 15, 18, 21, 24, 27, 30, 4, 8, 12, 16, 20, 24, 28, 32, 36, 40]\n"
     ]
    }
   ],
   "source": [
    "tables = []\n",
    " \n",
    "for i in range(1, 5):\n",
    "    for n in range(1, 11):\n",
    "        tables.append(i*n)\n",
    " \n",
    "print(tables)"
   ]
  },
  {
   "cell_type": "markdown",
   "metadata": {},
   "source": [
    "Let's now try to achieve this through list comprehension using the syntax shown above:"
   ]
  },
  {
   "cell_type": "code",
   "execution_count": 39,
   "metadata": {},
   "outputs": [
    {
     "name": "stdout",
     "output_type": "stream",
     "text": [
      "[1, 2, 3, 4, 5, 6, 7, 8, 9, 10, 2, 4, 6, 8, 10, 12, 14, 16, 18, 20, 3, 6, 9, 12, 15, 18, 21, 24, 27, 30, 4, 8, 12, 16, 20, 24, 28, 32, 36, 40]\n"
     ]
    }
   ],
   "source": [
    "# [EXPRESSION for ELEMENT_a in ITERABLE_a for ELEMENT_b in ITERABLE_b]\n",
    "\n",
    "print([i*n for i in range(1,5) for n in range(1,11)])"
   ]
  },
  {
   "cell_type": "markdown",
   "metadata": {},
   "source": [
    "This feature can become really helpful while flattening down a list of lists (a matrix). Let's have a look at the example below:"
   ]
  },
  {
   "cell_type": "code",
   "execution_count": 41,
   "metadata": {},
   "outputs": [
    {
     "data": {
      "text/plain": [
       "[1, 2, 3, 4, 5, 6, 7, 8, 9, 10, 11, 12]"
      ]
     },
     "execution_count": 41,
     "metadata": {},
     "output_type": "execute_result"
    }
   ],
   "source": [
    "mat     = [[1, 2, 3, 4],\n",
    "          [5, 6, 7, 8],\n",
    "          [9, 10, 11, 12],]\n",
    "\n",
    "# # [EXPRESSION for ELEMENT_a in ITERABLE_a for ELEMENT_b in ITERABLE_b]\n",
    "[n for row in mat for n in row]"
   ]
  },
  {
   "cell_type": "markdown",
   "metadata": {},
   "source": [
    "In this example, The outer for loop `n for row in mat` iterates through individual lists and stores them in the variable row. \n",
    "\n",
    "The inner for loop  `mat for n in row` will then iterate through all the elements in the current row.\n",
    "\n",
    "During the first iteration, the variable row has the value [1, 2, 3, 4]. The second loop iterates through this list or row and appends all those values to the final list. As we can see the code becomes slightly difficult to read when we implement nested for loops with list comprehensions. "
   ]
  },
  {
   "cell_type": "markdown",
   "metadata": {},
   "source": [
    "## Nested List Comprehension"
   ]
  },
  {
   "cell_type": "markdown",
   "metadata": {},
   "source": [
    "Nested list comprehensions are very different to list comprehensions with nested loops. For nested loops, we deal with loops within loops. However, for nested list comprehensions, we define list comprehensions within list comprehensions. \n",
    "\n",
    "Let's set our problem of transposing the matrix `mat` shown above to see this in action.  \n",
    "\n",
    "Without a list comprehension expression, you will need to use two for loops to transpose the matrix as shown below:"
   ]
  },
  {
   "cell_type": "code",
   "execution_count": 62,
   "metadata": {},
   "outputs": [
    {
     "name": "stdout",
     "output_type": "stream",
     "text": [
      "1   2   3   4\n",
      "5   6   7   8\n",
      "9  10  11  12\n",
      "\n",
      "1  5   9\n",
      "2  6  10\n",
      "3  7  11\n",
      "4  8  12\n"
     ]
    }
   ],
   "source": [
    "import pandas as pd\n",
    "T = []\n",
    " \n",
    "for i in range(4):\n",
    "    temp = []\n",
    "    for row in mat:\n",
    "        temp.append(row[i])\n",
    "    T.append(temp)\n",
    "\n",
    "# Use dataframes for printing as matrix\n",
    "print(pd.DataFrame(mat).to_string(index=False, header=False))\n",
    "print('')\n",
    "print (pd.DataFrame(T).to_string(index=False,  header=False))"
   ]
  },
  {
   "cell_type": "markdown",
   "metadata": {},
   "source": [
    "Let's now try to get the same output with nested list comprehension. We shall:\n",
    "\n",
    "* Create a list.\n",
    "* Execute nested loop as list comprehension.\n",
    "* Convert the output to a dataframe. \n",
    "* Change the element types to string.\n",
    "* Remove header and index.\n",
    "* Print the output as a matrix \n",
    "\n",
    "all in one line of code.\n",
    "\n",
    "Although we can see that the code might get a bit hard to read, but this demonstrates  how you can replace a lengthy block of code with a single line using list comprehensions with some clever programming."
   ]
  },
  {
   "cell_type": "code",
   "execution_count": 65,
   "metadata": {},
   "outputs": [
    {
     "name": "stdout",
     "output_type": "stream",
     "text": [
      "1  5   9\n",
      "2  6  10\n",
      "3  7  11\n",
      "4  8  12\n"
     ]
    }
   ],
   "source": [
    "print(pd.DataFrame([[row[n] for row in mat] for n in range(4)]).to_string(index=False, header=False))"
   ]
  },
  {
   "cell_type": "markdown",
   "metadata": {},
   "source": [
    "In nested list comprehension, we see  that the **EXPRESSION** in ordinary list comprehension **[EXPRESSION for ELEMENT in ITERABLE]** is yet another list comprehension i.e. **[row[n] for row in mat]**.\n",
    "\n",
    "This nested list comprehension itself is in the form of a basic for loop."
   ]
  },
  {
   "cell_type": "markdown",
   "metadata": {},
   "source": [
    "## Summary \n",
    "\n",
    "In this lesson, we learnt what list comprehensions are and how to use them in place of basic for loops to write brief yet faster code while creating lists.  We also looked at list comprehensions with conditionals, loops and nested loops. Creating list comprehensions for nested loops OR creating nested list comprehensions makes the code less readable as we saw above. In such cases, we can break down the list comprehension into multiple list comprehensions to improve readability."
   ]
  }
 ],
 "metadata": {
  "kernelspec": {
   "display_name": "Python 3",
   "language": "python",
   "name": "python3"
  },
  "language_info": {
   "codemirror_mode": {
    "name": "ipython",
    "version": 3
   },
   "file_extension": ".py",
   "mimetype": "text/x-python",
   "name": "python",
   "nbconvert_exporter": "python",
   "pygments_lexer": "ipython3",
   "version": "3.6.6"
  }
 },
 "nbformat": 4,
 "nbformat_minor": 2
}
